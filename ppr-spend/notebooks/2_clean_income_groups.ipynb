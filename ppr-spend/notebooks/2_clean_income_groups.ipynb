{
 "cells": [
  {
   "cell_type": "code",
   "execution_count": 38,
   "metadata": {},
   "outputs": [],
   "source": [
    "import pandas as pd"
   ]
  },
  {
   "cell_type": "code",
   "execution_count": 39,
   "metadata": {},
   "outputs": [],
   "source": [
    "wb_class = pd.read_csv(\"../data/raw/world-bank-income-groups.csv\")\n",
    "wb_pops = pd.read_csv(\"../data/raw/API_SP.POP.TOTL_DS2_en_csv_v2_38144/API_SP.POP.TOTL_DS2_en_csv_v2_38144.csv\", skiprows=3)"
   ]
  },
  {
   "cell_type": "code",
   "execution_count": 40,
   "metadata": {},
   "outputs": [],
   "source": [
    "year = 2021 # Want 2021 population counts"
   ]
  },
  {
   "cell_type": "code",
   "execution_count": 41,
   "metadata": {},
   "outputs": [
    {
     "data": {
      "text/html": [
       "<div>\n",
       "<style scoped>\n",
       "    .dataframe tbody tr th:only-of-type {\n",
       "        vertical-align: middle;\n",
       "    }\n",
       "\n",
       "    .dataframe tbody tr th {\n",
       "        vertical-align: top;\n",
       "    }\n",
       "\n",
       "    .dataframe thead th {\n",
       "        text-align: right;\n",
       "    }\n",
       "</style>\n",
       "<table border=\"1\" class=\"dataframe\">\n",
       "  <thead>\n",
       "    <tr style=\"text-align: right;\">\n",
       "      <th></th>\n",
       "      <th>entity</th>\n",
       "      <th>code</th>\n",
       "      <th>year</th>\n",
       "      <th>income_group</th>\n",
       "    </tr>\n",
       "  </thead>\n",
       "  <tbody>\n",
       "    <tr>\n",
       "      <th>34</th>\n",
       "      <td>Afghanistan</td>\n",
       "      <td>AFG</td>\n",
       "      <td>2021</td>\n",
       "      <td>Low-income countries</td>\n",
       "    </tr>\n",
       "    <tr>\n",
       "      <th>69</th>\n",
       "      <td>Albania</td>\n",
       "      <td>ALB</td>\n",
       "      <td>2021</td>\n",
       "      <td>Upper-middle-income countries</td>\n",
       "    </tr>\n",
       "    <tr>\n",
       "      <th>107</th>\n",
       "      <td>Algeria</td>\n",
       "      <td>DZA</td>\n",
       "      <td>2021</td>\n",
       "      <td>Lower-middle-income countries</td>\n",
       "    </tr>\n",
       "    <tr>\n",
       "      <th>145</th>\n",
       "      <td>American Samoa</td>\n",
       "      <td>ASM</td>\n",
       "      <td>2021</td>\n",
       "      <td>Upper-middle-income countries</td>\n",
       "    </tr>\n",
       "    <tr>\n",
       "      <th>180</th>\n",
       "      <td>Andorra</td>\n",
       "      <td>AND</td>\n",
       "      <td>2021</td>\n",
       "      <td>High-income countries</td>\n",
       "    </tr>\n",
       "    <tr>\n",
       "      <th>...</th>\n",
       "      <td>...</td>\n",
       "      <td>...</td>\n",
       "      <td>...</td>\n",
       "      <td>...</td>\n",
       "    </tr>\n",
       "    <tr>\n",
       "      <th>7759</th>\n",
       "      <td>Vanuatu</td>\n",
       "      <td>VUT</td>\n",
       "      <td>2021</td>\n",
       "      <td>Lower-middle-income countries</td>\n",
       "    </tr>\n",
       "    <tr>\n",
       "      <th>7830</th>\n",
       "      <td>Vietnam</td>\n",
       "      <td>VNM</td>\n",
       "      <td>2021</td>\n",
       "      <td>Lower-middle-income countries</td>\n",
       "    </tr>\n",
       "    <tr>\n",
       "      <th>7868</th>\n",
       "      <td>Yemen</td>\n",
       "      <td>YEM</td>\n",
       "      <td>2021</td>\n",
       "      <td>Low-income countries</td>\n",
       "    </tr>\n",
       "    <tr>\n",
       "      <th>7911</th>\n",
       "      <td>Zambia</td>\n",
       "      <td>ZMB</td>\n",
       "      <td>2021</td>\n",
       "      <td>Low-income countries</td>\n",
       "    </tr>\n",
       "    <tr>\n",
       "      <th>7949</th>\n",
       "      <td>Zimbabwe</td>\n",
       "      <td>ZWE</td>\n",
       "      <td>2021</td>\n",
       "      <td>Lower-middle-income countries</td>\n",
       "    </tr>\n",
       "  </tbody>\n",
       "</table>\n",
       "<p>219 rows × 4 columns</p>\n",
       "</div>"
      ],
      "text/plain": [
       "              entity code  year                   income_group\n",
       "34       Afghanistan  AFG  2021           Low-income countries\n",
       "69           Albania  ALB  2021  Upper-middle-income countries\n",
       "107          Algeria  DZA  2021  Lower-middle-income countries\n",
       "145   American Samoa  ASM  2021  Upper-middle-income countries\n",
       "180          Andorra  AND  2021          High-income countries\n",
       "...              ...  ...   ...                            ...\n",
       "7759         Vanuatu  VUT  2021  Lower-middle-income countries\n",
       "7830         Vietnam  VNM  2021  Lower-middle-income countries\n",
       "7868           Yemen  YEM  2021           Low-income countries\n",
       "7911          Zambia  ZMB  2021           Low-income countries\n",
       "7949        Zimbabwe  ZWE  2021  Lower-middle-income countries\n",
       "\n",
       "[219 rows x 4 columns]"
      ]
     },
     "execution_count": 41,
     "metadata": {},
     "output_type": "execute_result"
    }
   ],
   "source": [
    "wb_class = wb_class.rename(columns=lambda s: s.lower().replace(' ', '_'))\n",
    "wb_class = wb_class.rename(columns={\"world_bank's_income_classification\": 'income_group'})\n",
    "wb_class = wb_class[wb_class['year'] == year]\n",
    "wb_class"
   ]
  },
  {
   "cell_type": "code",
   "execution_count": 43,
   "metadata": {},
   "outputs": [],
   "source": [
    "wb_pops_long = wb_pops \\\n",
    "    .rename(columns=lambda s: s.lower().replace(' ', '_')) \\\n",
    "    .drop(columns=['indicator_name', 'indicator_code']) \\\n",
    "    .rename(columns={'country_code': 'code'})\n",
    "\n",
    "wb_pops_long = wb_pops_long.melt(id_vars=['country_name', 'code'], value_name='pop', var_name='year')\n",
    "wb_pops_long = wb_pops_long[~wb_pops_long['year'].str.contains('unnamed')]\n",
    "wb_pops_long['year'] = wb_pops_long['year'].astype(int)\n",
    "wb_pops_long = wb_pops_long[wb_pops_long['year'] == year]"
   ]
  },
  {
   "cell_type": "code",
   "execution_count": 49,
   "metadata": {},
   "outputs": [],
   "source": [
    "pops_with_class = wb_class.merge(wb_pops_long[['code', 'pop']], on='code', how='left')\n",
    "pop_by_income_group = pops_with_class.groupby(['income_group'])['pop'].sum()"
   ]
  },
  {
   "cell_type": "code",
   "execution_count": 51,
   "metadata": {},
   "outputs": [],
   "source": [
    "pop_by_income_group.to_csv('../data/clean/pop_by_income_group_2021.csv')"
   ]
  }
 ],
 "metadata": {
  "kernelspec": {
   "display_name": ".venv",
   "language": "python",
   "name": "python3"
  },
  "language_info": {
   "codemirror_mode": {
    "name": "ipython",
    "version": 3
   },
   "file_extension": ".py",
   "mimetype": "text/x-python",
   "name": "python",
   "nbconvert_exporter": "python",
   "pygments_lexer": "ipython3",
   "version": "3.12.7"
  }
 },
 "nbformat": 4,
 "nbformat_minor": 2
}
